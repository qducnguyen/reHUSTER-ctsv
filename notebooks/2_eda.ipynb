{
 "cells": [
  {
   "cell_type": "markdown",
   "metadata": {},
   "source": [
    "# Basic EDA"
   ]
  },
  {
   "cell_type": "code",
   "execution_count": null,
   "metadata": {},
   "outputs": [],
   "source": [
    "with open(\"output/dirty_eda_result.csv\")  as f:\n",
    "    df = pd.read_csv(f)\n",
    "\n",
    "df = df.astype('str')"
   ]
  },
  {
   "cell_type": "code",
   "execution_count": null,
   "metadata": {},
   "outputs": [
    {
     "data": {
      "text/html": [
       "<div>\n",
       "<style scoped>\n",
       "    .dataframe tbody tr th:only-of-type {\n",
       "        vertical-align: middle;\n",
       "    }\n",
       "\n",
       "    .dataframe tbody tr th {\n",
       "        vertical-align: top;\n",
       "    }\n",
       "\n",
       "    .dataframe thead th {\n",
       "        text-align: right;\n",
       "    }\n",
       "</style>\n",
       "<table border=\"1\" class=\"dataframe\">\n",
       "  <thead>\n",
       "    <tr style=\"text-align: right;\">\n",
       "      <th></th>\n",
       "      <th>index</th>\n",
       "      <th>student_id</th>\n",
       "      <th>activity_id</th>\n",
       "      <th>accepted_status</th>\n",
       "      <th>date</th>\n",
       "    </tr>\n",
       "  </thead>\n",
       "  <tbody>\n",
       "    <tr>\n",
       "      <th>0</th>\n",
       "      <td>2199296</td>\n",
       "      <td>20226807</td>\n",
       "      <td>3387</td>\n",
       "      <td>2</td>\n",
       "      <td>2022-10-24 18:31:56</td>\n",
       "    </tr>\n",
       "    <tr>\n",
       "      <th>1</th>\n",
       "      <td>1065874</td>\n",
       "      <td>20202528</td>\n",
       "      <td>1759</td>\n",
       "      <td>2</td>\n",
       "      <td>2021-06-15 21:39:00</td>\n",
       "    </tr>\n",
       "    <tr>\n",
       "      <th>2</th>\n",
       "      <td>3053827</td>\n",
       "      <td>20236479</td>\n",
       "      <td>8813</td>\n",
       "      <td>1</td>\n",
       "      <td>2023-09-30 20:48:59</td>\n",
       "    </tr>\n",
       "    <tr>\n",
       "      <th>3</th>\n",
       "      <td>2604540</td>\n",
       "      <td>20217413</td>\n",
       "      <td>7030</td>\n",
       "      <td>2</td>\n",
       "      <td>2023-04-06 10:17:14</td>\n",
       "    </tr>\n",
       "    <tr>\n",
       "      <th>4</th>\n",
       "      <td>168246</td>\n",
       "      <td>20165194</td>\n",
       "      <td>531</td>\n",
       "      <td>2</td>\n",
       "      <td>2020-04-20 09:42:28</td>\n",
       "    </tr>\n",
       "    <tr>\n",
       "      <th>...</th>\n",
       "      <td>...</td>\n",
       "      <td>...</td>\n",
       "      <td>...</td>\n",
       "      <td>...</td>\n",
       "      <td>...</td>\n",
       "    </tr>\n",
       "    <tr>\n",
       "      <th>3250138</th>\n",
       "      <td>211588</td>\n",
       "      <td>20187419</td>\n",
       "      <td>518</td>\n",
       "      <td>2</td>\n",
       "      <td>2020-04-02 21:25:10</td>\n",
       "    </tr>\n",
       "    <tr>\n",
       "      <th>3250139</th>\n",
       "      <td>1556666</td>\n",
       "      <td>20204642</td>\n",
       "      <td>2341</td>\n",
       "      <td>2</td>\n",
       "      <td>2021-12-28 15:30:55</td>\n",
       "    </tr>\n",
       "    <tr>\n",
       "      <th>3250140</th>\n",
       "      <td>212860</td>\n",
       "      <td>20163257</td>\n",
       "      <td>518</td>\n",
       "      <td>2</td>\n",
       "      <td>2020-04-02 21:25:10</td>\n",
       "    </tr>\n",
       "    <tr>\n",
       "      <th>3250141</th>\n",
       "      <td>1685589</td>\n",
       "      <td>20171630</td>\n",
       "      <td>2611</td>\n",
       "      <td>2</td>\n",
       "      <td>2022-02-08 19:47:28</td>\n",
       "    </tr>\n",
       "    <tr>\n",
       "      <th>3250142</th>\n",
       "      <td>735029</td>\n",
       "      <td>20172394</td>\n",
       "      <td>1445</td>\n",
       "      <td>2</td>\n",
       "      <td>2021-02-24 08:02:28</td>\n",
       "    </tr>\n",
       "  </tbody>\n",
       "</table>\n",
       "<p>3250143 rows × 5 columns</p>\n",
       "</div>"
      ],
      "text/plain": [
       "           index student_id activity_id accepted_status                 date\n",
       "0        2199296   20226807        3387               2  2022-10-24 18:31:56\n",
       "1        1065874   20202528        1759               2  2021-06-15 21:39:00\n",
       "2        3053827   20236479        8813               1  2023-09-30 20:48:59\n",
       "3        2604540   20217413        7030               2  2023-04-06 10:17:14\n",
       "4         168246   20165194         531               2  2020-04-20 09:42:28\n",
       "...          ...        ...         ...             ...                  ...\n",
       "3250138   211588   20187419         518               2  2020-04-02 21:25:10\n",
       "3250139  1556666   20204642        2341               2  2021-12-28 15:30:55\n",
       "3250140   212860   20163257         518               2  2020-04-02 21:25:10\n",
       "3250141  1685589   20171630        2611               2  2022-02-08 19:47:28\n",
       "3250142   735029   20172394        1445               2  2021-02-24 08:02:28\n",
       "\n",
       "[3250143 rows x 5 columns]"
      ]
     },
     "metadata": {},
     "output_type": "display_data"
    }
   ],
   "source": [
    "df"
   ]
  },
  {
   "cell_type": "code",
   "execution_count": null,
   "metadata": {},
   "outputs": [
    {
     "data": {
      "text/plain": [
       "index              3250143\n",
       "student_id           59957\n",
       "activity_id           4456\n",
       "accepted_status          3\n",
       "date                  4450\n",
       "dtype: int64"
      ]
     },
     "metadata": {},
     "output_type": "display_data"
    }
   ],
   "source": [
    "df.nunique()"
   ]
  },
  {
   "cell_type": "code",
   "execution_count": null,
   "metadata": {},
   "outputs": [
    {
     "data": {
      "text/plain": [
       "0.9878348521107991"
      ]
     },
     "metadata": {},
     "output_type": "display_data"
    }
   ],
   "source": [
    "1 - len(df) / (df['student_id'].nunique() * df['activity_id'].nunique())"
   ]
  },
  {
   "cell_type": "code",
   "execution_count": null,
   "metadata": {},
   "outputs": [
    {
     "data": {
      "image/png": "[encoded data removed]",
      "text/plain": [
       "<Figure size 640x480 with 1 Axes>"
      ]
     },
     "metadata": {},
     "output_type": "display_data"
    }
   ],
   "source": [
    "plt.hist(df['accepted_status'])\n",
    "plt.show()"
   ]
  },
  {
   "cell_type": "code",
   "execution_count": null,
   "metadata": {},
   "outputs": [
    {
     "data": {
      "text/plain": [
       "activity_id\n",
       "1000      41\n",
       "1001     103\n",
       "1002    3085\n",
       "1003       7\n",
       "1004      49\n",
       "        ... \n",
       "994      137\n",
       "995      161\n",
       "996      589\n",
       "997      231\n",
       "998       75\n",
       "Name: student_id, Length: 4456, dtype: int64"
      ]
     },
     "metadata": {},
     "output_type": "display_data"
    }
   ],
   "source": [
    "acti_group = df.groupby(['activity_id']).count()['student_id']\n",
    "acti_group"
   ]
  },
  {
   "cell_type": "code",
   "execution_count": null,
   "metadata": {},
   "outputs": [
    {
     "data": {
      "text/plain": [
       "count     4456.000000\n",
       "mean       729.385772\n",
       "std       2091.515763\n",
       "min          1.000000\n",
       "25%         34.000000\n",
       "50%        104.500000\n",
       "75%        412.000000\n",
       "max      28127.000000\n",
       "Name: student_id, dtype: float64"
      ]
     },
     "metadata": {},
     "output_type": "display_data"
    }
   ],
   "source": [
    "acti_group.describe()"
   ]
  },
  {
   "cell_type": "code",
   "execution_count": null,
   "metadata": {},
   "outputs": [
    {
     "data": {
      "image/png": "[encoded data removed]",
      "text/plain": [
       "<Figure size 640x480 with 1 Axes>"
      ]
     },
     "metadata": {},
     "output_type": "display_data"
    }
   ],
   "source": [
    "plt.hist(acti_group, range=(1, 500))\n",
    "plt.show()"
   ]
  },
  {
   "cell_type": "code",
   "execution_count": null,
   "metadata": {},
   "outputs": [
    {
     "data": {
      "text/plain": [
       "student_id\n",
       "101          8\n",
       "102          8\n",
       "103         14\n",
       "104         10\n",
       "105         13\n",
       "            ..\n",
       "80367        2\n",
       "80385        4\n",
       "80430        1\n",
       "80431        1\n",
       "２０１９８４８６     1\n",
       "Name: activity_id, Length: 59957, dtype: int64"
      ]
     },
     "metadata": {},
     "output_type": "display_data"
    }
   ],
   "source": [
    "stu_group = df.groupby(['student_id']).count()['activity_id']\n",
    "stu_group"
   ]
  },
  {
   "cell_type": "code",
   "execution_count": null,
   "metadata": {},
   "outputs": [
    {
     "data": {
      "text/plain": [
       "count    59957.000000\n",
       "mean        54.207899\n",
       "std         48.695441\n",
       "min          1.000000\n",
       "25%         16.000000\n",
       "50%         42.000000\n",
       "75%         79.000000\n",
       "max        807.000000\n",
       "Name: activity_id, dtype: float64"
      ]
     },
     "metadata": {},
     "output_type": "display_data"
    }
   ],
   "source": [
    "stu_group.describe()"
   ]
  },
  {
   "cell_type": "code",
   "execution_count": null,
   "metadata": {},
   "outputs": [
    {
     "data": {
      "image/png": "[encoded data removed]",
      "text/plain": [
       "<Figure size 640x480 with 1 Axes>"
      ]
     },
     "metadata": {},
     "output_type": "display_data"
    }
   ],
   "source": [
    "plt.hist(stu_group, range=(1, 150))\n",
    "plt.show()"
   ]
  },
  {
   "cell_type": "code",
   "execution_count": null,
   "metadata": {},
   "outputs": [
    {
     "data": {
      "text/plain": [
       "191"
      ]
     },
     "metadata": {},
     "output_type": "display_data"
    }
   ],
   "source": [
    "stu_group.loc['20204876']"
   ]
  },
  {
   "cell_type": "code",
   "execution_count": null,
   "metadata": {},
   "outputs": [],
   "source": []
  }
 ],
 "metadata": {
  "language_info": {
   "name": "python"
  }
 },
 "nbformat": 4,
 "nbformat_minor": 2
}
