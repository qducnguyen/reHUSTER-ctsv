{
 "cells": [
  {
   "cell_type": "markdown",
   "metadata": {},
   "source": [
    "# Deployment \n",
    "\n",
    "https://github.com/topspinj/recommender-tutorial/blob/master/part-3-implicit-feedback-recommender.ipynb\n",
    "\n",
    "\n",
    "We only use ALS (efficient)\n",
    "\n",
    "Input: User Id --> Top 5 activity; (Apply real-time (new data), handle missing users, invalid input)"
   ]
  },
  {
   "cell_type": "markdown",
   "metadata": {},
   "source": [
    "# Training, get the model (fast) "
   ]
  },
  {
   "cell_type": "markdown",
   "metadata": {},
   "source": [
    "## Settings"
   ]
  },
  {
   "cell_type": "code",
   "execution_count": 1,
   "metadata": {},
   "outputs": [],
   "source": [
    "OUTPUT_CLEANED_FOLDER = \"output/\""
   ]
  },
  {
   "cell_type": "markdown",
   "metadata": {},
   "source": [
    "## Read data"
   ]
  },
  {
   "cell_type": "code",
   "execution_count": 2,
   "metadata": {},
   "outputs": [
    {
     "name": "stderr",
     "output_type": "stream",
     "text": [
      "/tmp/ipykernel_2877998/1144630671.py:4: DtypeWarning: Columns (0) have mixed types. Specify dtype option on import or set low_memory=False.\n",
      "  df_interaction = pd.read_csv(os.path.join(OUTPUT_CLEANED_FOLDER, \"user_activity_interaction_deep_cleaned.csv\"))\n"
     ]
    }
   ],
   "source": [
    "import os \n",
    "import pandas as pd \n",
    "\n",
    "df_interaction = pd.read_csv(os.path.join(OUTPUT_CLEANED_FOLDER, \"user_activity_interaction_deep_cleaned.csv\"))\n",
    "df_user = pd.read_csv(os.path.join(OUTPUT_CLEANED_FOLDER, \"user_info_deep_cleaned.csv\"))\n",
    "df_activity = pd.read_csv(os.path.join(OUTPUT_CLEANED_FOLDER, \"activity_info_deep_cleaned.csv\"))"
   ]
  },
  {
   "cell_type": "code",
   "execution_count": 3,
   "metadata": {},
   "outputs": [],
   "source": [
    "df_activity[\"id\"]  = df_activity[\"id\"].astype(str)\n",
    "df_interaction = df_interaction.astype(str)\n",
    "df_interaction[\"inter_score\"] = 1\n",
    "df_all = df_interaction.merge(df_activity, left_on=[\"activity_id\"], right_on=[\"id\"])[[\"user_id\", \"activity_id\", \"inter_score\", \"createdTime\"]]\n",
    "df_all[\"createdTime\"] = pd.to_datetime(df_all[\"createdTime\"])"
   ]
  },
  {
   "cell_type": "code",
   "execution_count": 4,
   "metadata": {},
   "outputs": [],
   "source": [
    "df_all = df_all.drop_duplicates()"
   ]
  },
  {
   "cell_type": "markdown",
   "metadata": {},
   "source": [
    "## Preprocessing"
   ]
  },
  {
   "cell_type": "code",
   "execution_count": 5,
   "metadata": {},
   "outputs": [],
   "source": [
    "user_id_map = {i:v for i, v in enumerate(df_all[\"user_id\"].unique())}\n",
    "inverse_user_id_map = {v:i for i, v in enumerate(df_all[\"user_id\"].unique())}\n",
    "activity_id_map = {i:v for i, v in enumerate(df_all[\"activity_id\"].unique())}\n",
    "inverse_activity_id_map = {v:i for i, v in enumerate(df_all[\"activity_id\"].unique())}"
   ]
  },
  {
   "cell_type": "code",
   "execution_count": 6,
   "metadata": {},
   "outputs": [],
   "source": [
    "df_all_map = df_all.copy()\n",
    "\n",
    "df_all_map['user_id'] = df_all_map['user_id'].map(inverse_user_id_map)\n",
    "df_all_map['activity_id'] = df_all_map['activity_id'].map(inverse_activity_id_map)"
   ]
  },
  {
   "cell_type": "code",
   "execution_count": 7,
   "metadata": {},
   "outputs": [
    {
     "name": "stdout",
     "output_type": "stream",
     "text": [
      "df_all_map shape:  (3286982, 4)\n",
      "number of users:  59272\n",
      "number of items:  4505\n",
      "The sparse matrix is one with shape (59272 , 4505), with 3286982 non-zero read_times\n"
     ]
    }
   ],
   "source": [
    "print('df_all_map shape: ',df_all_map.shape)\n",
    "print('number of users: ', len(user_id_map))\n",
    "print('number of items: ', len(activity_id_map))\n",
    "print('The sparse matrix is one with shape (%d , %d), with %d non-zero read_times'\n",
    "      %(len(user_id_map),len(activity_id_map), df_all_map.shape[0]))\n"
   ]
  },
  {
   "cell_type": "markdown",
   "metadata": {},
   "source": [
    "## Training Model"
   ]
  },
  {
   "cell_type": "code",
   "execution_count": 8,
   "metadata": {},
   "outputs": [],
   "source": [
    "import numpy as np\n",
    "\n",
    "nb_users = len(user_id_map)\n",
    "nb_articles = len(activity_id_map)\n",
    "uim = np.zeros((nb_users, nb_articles), dtype=np.float32)\n",
    "uim[df_all_map[\"user_id\"], df_all_map[\"activity_id\"]] = df_all_map[\"inter_score\"]"
   ]
  },
  {
   "cell_type": "code",
   "execution_count": 9,
   "metadata": {},
   "outputs": [
    {
     "data": {
      "text/plain": [
       "(59272, 4505)"
      ]
     },
     "execution_count": 9,
     "metadata": {},
     "output_type": "execute_result"
    }
   ],
   "source": [
    "uim.shape"
   ]
  },
  {
   "cell_type": "code",
   "execution_count": 10,
   "metadata": {},
   "outputs": [
    {
     "name": "stderr",
     "output_type": "stream",
     "text": [
      "/home/ctv.sangdv/.conda/envs/web-mining-d/lib/python3.10/site-packages/tqdm/auto.py:21: TqdmWarning: IProgress not found. Please update jupyter and ipywidgets. See https://ipywidgets.readthedocs.io/en/stable/user_install.html\n",
      "  from .autonotebook import tqdm as notebook_tqdm\n",
      "/home/ctv.sangdv/.conda/envs/web-mining-d/lib/python3.10/site-packages/implicit/cpu/als.py:95: RuntimeWarning: OpenBLAS is configured to use 64 threads. It is highly recommended to disable its internal threadpool by setting the environment variable 'OPENBLAS_NUM_THREADS=1' or by calling 'threadpoolctl.threadpool_limits(1, \"blas\")'. Having OpenBLAS use a threadpool can lead to severe performance issues here.\n",
      "  check_blas_config()\n"
     ]
    },
    {
     "name": "stdout",
     "output_type": "stream",
     "text": [
      "uim shape : (59272, 4505)\n"
     ]
    },
    {
     "name": "stderr",
     "output_type": "stream",
     "text": [
      "100%|██████████| 15/15 [00:10<00:00,  1.39it/s]\n"
     ]
    }
   ],
   "source": [
    "from scipy import sparse as sp\n",
    "from implicit.als import AlternatingLeastSquares\n",
    "\n",
    "uim = sp.csr_matrix(uim)\n",
    "print('uim shape :', uim.shape)\n",
    "\n",
    "model = AlternatingLeastSquares(factors=16, \n",
    "                                random_state=42,\n",
    "                                num_threads=16,\n",
    "                                alpha=128)\n",
    "\n",
    "model.fit(user_items=uim, show_progress=True)"
   ]
  },
  {
   "cell_type": "code",
   "execution_count": 11,
   "metadata": {},
   "outputs": [
    {
     "data": {
      "text/plain": [
       "(59272, 4505)"
      ]
     },
     "execution_count": 11,
     "metadata": {},
     "output_type": "execute_result"
    }
   ],
   "source": [
    "model.user_factors.shape[0], model.item_factors.shape[0]"
   ]
  },
  {
   "cell_type": "markdown",
   "metadata": {},
   "source": [
    "# Deployment Interface"
   ]
  },
  {
   "cell_type": "code",
   "execution_count": 12,
   "metadata": {},
   "outputs": [],
   "source": [
    "# Parameters\n",
    "recommended_topK = 5\n",
    "considered_most_recent_top = 20"
   ]
  },
  {
   "cell_type": "code",
   "execution_count": null,
   "metadata": {},
   "outputs": [],
   "source": [
    "hits = []\n",
    "ndcgs = []\n",
    "\n",
    "for idx in tqdm(range(len(test_rating_map))):\n",
    "    rating = test_rating_map[idx]\n",
    "    items = negative_test_rating_map[idx][1]\n",
    "    u = rating[0]\n",
    "    gtItem = rating[1]\n",
    "    items.append(gtItem)\n",
    "    predictions = model.rank_items(u, uim, items)\n",
    "    ranklist = predictions[0][:topK]\n",
    "    hr = getHitRatio(ranklist, gtItem)\n",
    "    ndcg = getNDCG(ranklist, gtItem)\n",
    "    hits.append(hr)\n",
    "    ndcgs.append(ndcg)"
   ]
  }
 ],
 "metadata": {
  "kernelspec": {
   "display_name": "web-mining-d",
   "language": "python",
   "name": "python3"
  },
  "language_info": {
   "codemirror_mode": {
    "name": "ipython",
    "version": 3
   },
   "file_extension": ".py",
   "mimetype": "text/x-python",
   "name": "python",
   "nbconvert_exporter": "python",
   "pygments_lexer": "ipython3",
   "version": "3.10.13"
  }
 },
 "nbformat": 4,
 "nbformat_minor": 2
}
