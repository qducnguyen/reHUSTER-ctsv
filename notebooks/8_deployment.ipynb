{
 "cells": [
  {
   "cell_type": "markdown",
   "metadata": {},
   "source": [
    "# Deployment \n",
    "\n",
    "https://github.com/topspinj/recommender-tutorial/blob/master/part-3-implicit-feedback-recommender.ipynb\n",
    "\n",
    "\n",
    "We only use ALS (efficient)\n",
    "\n",
    "Input: User Id --> Top 5 activity; (Apply real-time (new data), handle missing users, invalid input)"
   ]
  },
  {
   "cell_type": "markdown",
   "metadata": {},
   "source": [
    "# Training, get the model (fast) "
   ]
  },
  {
   "cell_type": "markdown",
   "metadata": {},
   "source": [
    "## Settings"
   ]
  },
  {
   "cell_type": "code",
   "execution_count": 1,
   "metadata": {},
   "outputs": [],
   "source": [
    "OUTPUT_CLEANED_FOLDER = \"output/\""
   ]
  },
  {
   "cell_type": "markdown",
   "metadata": {},
   "source": [
    "## Read data"
   ]
  },
  {
   "cell_type": "code",
   "execution_count": 2,
   "metadata": {},
   "outputs": [
    {
     "name": "stderr",
     "output_type": "stream",
     "text": [
      "/tmp/ipykernel_3304683/1710496557.py:10: DtypeWarning: Columns (0) have mixed types. Specify dtype option on import or set low_memory=False.\n",
      "  df_interaction = pd.read_csv(os.path.join(OUTPUT_CLEANED_FOLDER, \"user_activity_interaction_deep_cleaned.csv\"))\n"
     ]
    }
   ],
   "source": [
    "import warnings\n",
    "import os \n",
    "import pandas as pd \n",
    "from pandas.errors import SettingWithCopyWarning\n",
    "warnings.simplefilter(action=\"ignore\", category=SettingWithCopyWarning)\n",
    "warnings.simplefilter(action=\"ignore\", category=DeprecationWarning)\n",
    "\n",
    "\n",
    "\n",
    "df_interaction = pd.read_csv(os.path.join(OUTPUT_CLEANED_FOLDER, \"user_activity_interaction_deep_cleaned.csv\"))\n",
    "df_user = pd.read_csv(os.path.join(OUTPUT_CLEANED_FOLDER, \"user_info_deep_cleaned.csv\"))\n",
    "df_activity = pd.read_csv(os.path.join(OUTPUT_CLEANED_FOLDER, \"activity_info_deep_cleaned.csv\"))"
   ]
  },
  {
   "cell_type": "code",
   "execution_count": 3,
   "metadata": {},
   "outputs": [],
   "source": [
    "df_activity[\"id\"]  = df_activity[\"id\"].astype(str)\n",
    "df_interaction = df_interaction.astype(str)\n",
    "df_interaction[\"inter_score\"] = 1\n",
    "df_all = df_interaction.merge(df_activity, left_on=[\"activity_id\"], right_on=[\"id\"])[[\"user_id\", \"activity_id\", \"inter_score\", \"createdTime\"]]\n",
    "df_all[\"createdTime\"] = pd.to_datetime(df_all[\"createdTime\"])"
   ]
  },
  {
   "cell_type": "code",
   "execution_count": 4,
   "metadata": {},
   "outputs": [],
   "source": [
    "df_all = df_all.drop_duplicates()"
   ]
  },
  {
   "cell_type": "markdown",
   "metadata": {},
   "source": [
    "## Preprocessing"
   ]
  },
  {
   "cell_type": "code",
   "execution_count": 5,
   "metadata": {},
   "outputs": [],
   "source": [
    "user_id_map = {i:v for i, v in enumerate(df_all[\"user_id\"].unique())}\n",
    "inverse_user_id_map = {v:i for i, v in enumerate(df_all[\"user_id\"].unique())}\n",
    "activity_id_map = {i:v for i, v in enumerate(df_all[\"activity_id\"].unique())}\n",
    "inverse_activity_id_map = {v: i for i, v in enumerate(df_all[\"activity_id\"].unique())}"
   ]
  },
  {
   "cell_type": "code",
   "execution_count": 6,
   "metadata": {},
   "outputs": [],
   "source": [
    "df_all_map = df_all.copy()\n",
    "\n",
    "df_all_map['user_id'] = df_all_map['user_id'].map(inverse_user_id_map)\n",
    "df_all_map['activity_id'] = df_all_map['activity_id'].map(inverse_activity_id_map)"
   ]
  },
  {
   "cell_type": "code",
   "execution_count": 7,
   "metadata": {},
   "outputs": [
    {
     "name": "stdout",
     "output_type": "stream",
     "text": [
      "df_all_map shape:  (3286982, 4)\n",
      "number of users:  59272\n",
      "number of items:  4505\n",
      "The sparse matrix is one with shape (59272 , 4505), with 3286982 non-zero read_times\n"
     ]
    }
   ],
   "source": [
    "print('df_all_map shape: ',df_all_map.shape)\n",
    "print('number of users: ', len(user_id_map))\n",
    "print('number of items: ', len(activity_id_map))\n",
    "print('The sparse matrix is one with shape (%d , %d), with %d non-zero read_times'\n",
    "      %(len(user_id_map),len(activity_id_map), df_all_map.shape[0]))"
   ]
  },
  {
   "cell_type": "markdown",
   "metadata": {},
   "source": [
    "## Training Model"
   ]
  },
  {
   "cell_type": "code",
   "execution_count": 8,
   "metadata": {},
   "outputs": [],
   "source": [
    "import numpy as np\n",
    "\n",
    "nb_users = len(user_id_map)\n",
    "nb_articles = len(activity_id_map)\n",
    "uim = np.zeros((nb_users, nb_articles), dtype=np.float32)\n",
    "uim[df_all_map[\"user_id\"], df_all_map[\"activity_id\"]] = df_all_map[\"inter_score\"]"
   ]
  },
  {
   "cell_type": "code",
   "execution_count": 9,
   "metadata": {},
   "outputs": [
    {
     "data": {
      "text/plain": [
       "(59272, 4505)"
      ]
     },
     "execution_count": 9,
     "metadata": {},
     "output_type": "execute_result"
    }
   ],
   "source": [
    "uim.shape"
   ]
  },
  {
   "cell_type": "code",
   "execution_count": 11,
   "metadata": {},
   "outputs": [
    {
     "name": "stderr",
     "output_type": "stream",
     "text": [
      "/home/ctv.sangdv/.conda/envs/recommender-d/lib/python3.9/site-packages/tqdm/auto.py:21: TqdmWarning: IProgress not found. Please update jupyter and ipywidgets. See https://ipywidgets.readthedocs.io/en/stable/user_install.html\n",
      "  from .autonotebook import tqdm as notebook_tqdm\n"
     ]
    },
    {
     "name": "stderr",
     "output_type": "stream",
     "text": [
      "/home/ctv.sangdv/.local/lib/python3.9/site-packages/implicit/cpu/als.py:95: RuntimeWarning: OpenBLAS is configured to use 64 threads. It is highly recommended to disable its internal threadpool by setting the environment variable 'OPENBLAS_NUM_THREADS=1' or by calling 'threadpoolctl.threadpool_limits(1, \"blas\")'. Having OpenBLAS use a threadpool can lead to severe performance issues here.\n",
      "  check_blas_config()\n"
     ]
    },
    {
     "name": "stdout",
     "output_type": "stream",
     "text": [
      "uim shape : (59272, 4505)\n"
     ]
    },
    {
     "name": "stderr",
     "output_type": "stream",
     "text": [
      "100%|██████████| 15/15 [00:08<00:00,  1.76it/s]\n"
     ]
    }
   ],
   "source": [
    "from scipy import sparse as sp\n",
    "from implicit.als import AlternatingLeastSquares\n",
    "\n",
    "uim = sp.csr_matrix(uim)\n",
    "print('uim shape :', uim.shape)\n",
    "\n",
    "model = AlternatingLeastSquares(factors=16, \n",
    "                                random_state=42,\n",
    "                                num_threads=16,\n",
    "                                alpha=128)\n",
    "\n",
    "model.fit(user_items=uim, show_progress=True)"
   ]
  },
  {
   "cell_type": "code",
   "execution_count": 12,
   "metadata": {},
   "outputs": [
    {
     "data": {
      "text/plain": [
       "(59272, 4505)"
      ]
     },
     "execution_count": 12,
     "metadata": {},
     "output_type": "execute_result"
    }
   ],
   "source": [
    "model.user_factors.shape[0], model.item_factors.shape[0]"
   ]
  },
  {
   "cell_type": "markdown",
   "metadata": {},
   "source": [
    "# Deployment Interface"
   ]
  },
  {
   "cell_type": "markdown",
   "metadata": {},
   "source": [
    "## Settings"
   ]
  },
  {
   "cell_type": "code",
   "execution_count": 13,
   "metadata": {},
   "outputs": [],
   "source": [
    "# Parameters\n",
    "considered_most_recent_top = 20 # not include already engaged activities of a user \n",
    "\n",
    "recommended_topK = 5\n",
    "recent_topK = 10\n",
    "similar_userN = 10\n",
    "# Input users --> number of enrolled activities, recent activities, recommendation, similar users"
   ]
  },
  {
   "cell_type": "markdown",
   "metadata": {},
   "source": [
    "# Interface"
   ]
  },
  {
   "cell_type": "code",
   "execution_count": 14,
   "metadata": {},
   "outputs": [],
   "source": [
    "def valid_get_user_id(user_id):\n",
    "    import re \n",
    "    exception = Exception(\"Please provide valid USER ID.\")\n",
    "    \n",
    "    user_id = str(user_id)\n",
    "    pattern = r\"^(201[2-9]|202[0-3])\\d{4}P?$\"\n",
    "\n",
    "    if (not isinstance(user_id, int) and not isinstance(user_id, str)) or not bool(re.match(pattern, user_id)):\n",
    "        raise(exception)\n",
    "\n",
    "    if user_id not in inverse_user_id_map:\n",
    "        raise(Exception(f\"User ID: {user_id} not in database ..., you could choose random activities\"))\n",
    "    \n",
    "    return user_id"
   ]
  },
  {
   "cell_type": "code",
   "execution_count": 15,
   "metadata": {},
   "outputs": [],
   "source": [
    "\n",
    "def get_basic_info(user_id):\n",
    "    URL_FORMAT = \"https://ctsv.hust.edu.vn/#/hoat-dong/{}/chi-tiet\"\n",
    "\n",
    "    user_id = valid_get_user_id(user_id)\n",
    "    user_id_mapped = inverse_user_id_map[user_id]\n",
    "    user_id_interact_df = df_all_map[df_all_map[\"user_id\"] == user_id_mapped].reset_index(drop=True)\n",
    "    num_interactions  = len(user_id_interact_df)\n",
    "    print(f\"Student ID: {user_id}. Number of Engaged Events: {num_interactions}\")\n",
    "\n",
    "    cared_columns = [\"id\", \"title\", \"type\", \"btc\"]\n",
    "    df_user_activity_merged_sort = df_activity.merge(user_id_interact_df[\"activity_id\"].map(activity_id_map), \n",
    "                                                     left_on=\"id\", \n",
    "                                                     right_on=\"activity_id\").sort_values(by=\"createdTime\", ascending=False)[cared_columns]\n",
    "    \n",
    "    recent_top_k_df = df_user_activity_merged_sort[:recent_topK]\n",
    "    recent_top_k_df[\"url\"] = recent_top_k_df[\"id\"].apply(lambda x: URL_FORMAT.format(x))\n",
    "\n",
    "    print(f\"\\n-- Recent Engaged Activities: \")\n",
    "    for index, row in recent_top_k_df.reset_index().iterrows():\n",
    "        print(f\"{index+1}. {row['title']}\\nBTC: {row['btc']}\\nThể loại: {row['type']}\\nLink: {row['url']}\")\n"
   ]
  },
  {
   "cell_type": "code",
   "execution_count": 16,
   "metadata": {},
   "outputs": [],
   "source": [
    "def get_recommend_activities(user_id):\n",
    "    user_id = valid_get_user_id(user_id)\n",
    "    user_id_mapped = inverse_user_id_map[user_id]\n",
    "\n",
    "    URL_FORMAT = \"https://ctsv.hust.edu.vn/#/hoat-dong/{}/chi-tiet\"\n",
    "    activity_list = df_all_map[[\"activity_id\", \"createdTime\"]].drop_duplicates().sort_values(by=\"createdTime\", ascending=False)[\"activity_id\"].to_list()\n",
    "    user_id_interact_df = df_all_map[df_all_map[\"user_id\"] == user_id_mapped].reset_index(drop=True)\n",
    "    count = 0 \n",
    "    user_interact_set = set(user_id_interact_df[\"activity_id\"].tolist())\n",
    "    candidates_act_id = []\n",
    "\n",
    "    for act in activity_list:\n",
    "        if act not in user_interact_set:\n",
    "            candidates_act_id.append(act)\n",
    "            count += 1\n",
    "            if count == considered_most_recent_top:\n",
    "                break\n",
    "            \n",
    "    predictions = model.rank_items(user_id_mapped, uim, candidates_act_id)\n",
    "    recommendation_list = predictions[0][:recommended_topK]\n",
    "    recommendation_conf = predictions[1][:recommended_topK]\n",
    "    recommendation_data = list(zip(recommendation_list, recommendation_conf))\n",
    "\n",
    "    df_recommendation = pd.DataFrame(recommendation_data, columns=[\"activity_id\", \"confidence\"])\n",
    "    df_recommendation[\"activity_id\"]  = df_recommendation[\"activity_id\"].map(activity_id_map)\n",
    "\n",
    "    cared_columns = [\"id\", \"confidence\", \"title\", \"type\", \"btc\"]\n",
    "    df_user_activity_recommendation= df_activity.merge(df_recommendation, left_on=\"id\", right_on=\"activity_id\").sort_values(by=\"confidence\", ascending=False)[cared_columns]\n",
    "    recommend_top_k_df  = df_user_activity_recommendation[:recent_topK]\n",
    "    recommend_top_k_df[\"url\"]  = recommend_top_k_df[\"id\"].apply(lambda x: URL_FORMAT.format(x))\n",
    "\n",
    "    print(f\"User {user_id}: Top {recommended_topK} recommender ...\")\n",
    "    for index, row in recommend_top_k_df.reset_index().iterrows():\n",
    "        print(f\"{index+1}.Title: {row['title']}\\nBTC: {row['btc']}\\nType: {row['type']}\\nLink: {row['url']}\\nConfidence: {row['confidence']:.4f}\")\n",
    "        print()"
   ]
  },
  {
   "cell_type": "code",
   "execution_count": 17,
   "metadata": {},
   "outputs": [],
   "source": [
    "def get_similar_users(user_id):\n",
    "    user_id = valid_get_user_id(user_id)\n",
    "    user_id_mapped = inverse_user_id_map[user_id]\n",
    "\n",
    "    # Similar users\n",
    "    similar_user_N = model.similar_users(user_id_mapped, N=similar_userN, filter_users=user_id_mapped)\n",
    "\n",
    "    similar_user_N_df = pd.DataFrame(list(zip(similar_user_N[0], similar_user_N[1])), columns=[\"id\", \"confidence\"])\n",
    "    similar_user_N_df[\"id\"] = similar_user_N_df[\"id\"].map(user_id_map)\n",
    "    similar_user_N_df = similar_user_N_df.merge(df_user, on=\"id\")\n",
    "\n",
    "    print(f\"User {user_id}: Top {similar_userN} similar students ...\")\n",
    "    print()\n",
    "    for index, row in similar_user_N_df.reset_index().iterrows():\n",
    "        print(f\"{index+1}. Student ID: {row['id']} | Name: {row['fullName']} | Faculty: {row['faculty']} | Confidence: {row['confidence']:.4f}\")\n",
    "    "
   ]
  },
  {
   "cell_type": "markdown",
   "metadata": {},
   "source": [
    "# Recommend"
   ]
  },
  {
   "cell_type": "code",
   "execution_count": 18,
   "metadata": {},
   "outputs": [],
   "source": [
    "USER_ID = \"20204876\""
   ]
  },
  {
   "cell_type": "code",
   "execution_count": 19,
   "metadata": {},
   "outputs": [
    {
     "name": "stdout",
     "output_type": "stream",
     "text": [
      "Student ID: 20204876. Number of Engaged Events: 195\n",
      "\n",
      "-- Recent Engaged Activities: \n",
      "1. TỌA ĐÀM: CẦU NỐI DOANH NGHIỆP CỰU SINH VIÊN VÀ SINH VIÊN BÁCH KHOA\n",
      "BTC: Ban CTSV\n",
      "Thể loại: Sinh hoạt chuyên đề\n",
      "Link: https://ctsv.hust.edu.vn/#/hoat-dong/9075/chi-tiet\n",
      "2. BUỔI NÓI CHUYỆN CỦA HỌC GIẢ QUỐC TẾ ĐẠT GIẢI NOBEL\n",
      "BTC: Ban CTSV\n",
      "Thể loại: Sinh hoạt chuyên đề\n",
      "Link: https://ctsv.hust.edu.vn/#/hoat-dong/9064/chi-tiet\n",
      "3. [SHCD] Tọa đàm với doanh nghiệp và hướng nghiệp dành cho sinh viên năm cuối\n",
      "BTC: Ban CTSV\n",
      "Thể loại: Hội thảo hướng nghiệp\n",
      "Link: https://ctsv.hust.edu.vn/#/hoat-dong/9033/chi-tiet\n",
      "4. Tập huấn kiến thức, kỹ năng PCCC 12.2023\n",
      "BTC: Ban CTSV\n",
      "Thể loại: Sinh hoạt công dân\n",
      "Link: https://ctsv.hust.edu.vn/#/hoat-dong/9025/chi-tiet\n",
      "5. Career Day 2023 - Ngày hội hướng nghiệp và việc làm tại Đại học Bách khoa Hà Nội\n",
      "BTC: Ban CTSV\n",
      "Thể loại: Hội thảo hướng nghiệp\n",
      "Link: https://ctsv.hust.edu.vn/#/hoat-dong/8982/chi-tiet\n",
      "6. Bài giảng đại chúng của UNESCO: Đạo đức trong Trí tuệ nhân tạo\n",
      "BTC: Trường Công nghệ Thông tin và Truyền thông\n",
      "Thể loại: Sinh hoạt chuyên đề\n",
      "Link: https://ctsv.hust.edu.vn/#/hoat-dong/8978/chi-tiet\n",
      "7. Cuộc thi tìm hiểu Pháp luật kỳ 2023.1\n",
      "BTC: Ban CTSV\n",
      "Thể loại: Giáo dục Chính trị & Tư tưởng\n",
      "Link: https://ctsv.hust.edu.vn/#/hoat-dong/8975/chi-tiet\n",
      "8. Đồng hành cùng sinh viên ĐHBK Hà Nội trong cuộc thi GEN Z BIOTECH CHALLENGE 2023\n",
      "BTC: Chi bộ Sinh viên\n",
      "Thể loại: Khai báo online\n",
      "Link: https://ctsv.hust.edu.vn/#/hoat-dong/8959/chi-tiet\n",
      "9. Kiểm tra quy chế 2023.1\n",
      "BTC: Ban CTSV\n",
      "Thể loại: Hoạt động khảo sát\n",
      "Link: https://ctsv.hust.edu.vn/#/hoat-dong/8938/chi-tiet\n",
      "10. Khai báo nơi tạm trú/thường trú và giới thiệu thông tin nhà trọ kỳ 2023.1\n",
      "BTC: Ban CTSV\n",
      "Thể loại: Khai báo online\n",
      "Link: https://ctsv.hust.edu.vn/#/hoat-dong/8908/chi-tiet\n"
     ]
    }
   ],
   "source": [
    "get_basic_info(USER_ID)"
   ]
  },
  {
   "cell_type": "code",
   "execution_count": 20,
   "metadata": {},
   "outputs": [
    {
     "name": "stdout",
     "output_type": "stream",
     "text": [
      "User 20204876: Top 5 recommender ...\n",
      "1.Title: Bài giảng đại chúng: Đổi mới với AI – Quá trình chuyển đổi tại các quốc gia đang phát triển và khám phá bản thân dựa trên khoa học máy tính\n",
      "BTC: Trường Công nghệ Thông tin và Truyền thông\n",
      "Type: Hội thảo khoa học\n",
      "Link: https://ctsv.hust.edu.vn/#/hoat-dong/9068/chi-tiet\n",
      "Confidence: 0.7990\n",
      "\n",
      "2.Title: Tham gia Lễ khai mạc chương trình Hiến máu tình nguyện \"CHỦ NHẬT ĐỎ lần thứ XVI - BÁCH KHOA NGHÌN GIỌT HI VỌNG lần thứ XXX\"\n",
      "BTC: Đoàn TNCS Hồ Chí Minh ĐH BKHN\n",
      "Type: Hiến máu nhân đạo\n",
      "Link: https://ctsv.hust.edu.vn/#/hoat-dong/9074/chi-tiet\n",
      "Confidence: 0.7330\n",
      "\n",
      "3.Title: Tham gia các hoạt động, check in tại cây thông và Booth Chụp ảnh NOEL 2023: “APRICITY\"\n",
      "BTC: Đoàn TNCS Hồ Chí Minh ĐH BKHN\n",
      "Type: Hoạt động văn nghệ\n",
      "Link: https://ctsv.hust.edu.vn/#/hoat-dong/9071/chi-tiet\n",
      "Confidence: 0.5159\n",
      "\n",
      "4.Title: HỘI THI TIẾNG HÁT CÔNG ĐOÀN NĂM 2023\n",
      "BTC: Đại học Bách Khoa Hà Nội\n",
      "Type: Hoạt động văn nghệ\n",
      "Link: https://ctsv.hust.edu.vn/#/hoat-dong/9080/chi-tiet\n",
      "Confidence: 0.5097\n",
      "\n",
      "5.Title: Đạt danh hiệu Sinh viên 5 tốt các cấp năm học 2022 - 2023\n",
      "BTC: Hội Sinh Viên\n",
      "Type: Hiến máu nhân đạo\n",
      "Link: https://ctsv.hust.edu.vn/#/hoat-dong/9070/chi-tiet\n",
      "Confidence: 0.5052\n",
      "\n"
     ]
    }
   ],
   "source": [
    "get_recommend_activities(USER_ID)"
   ]
  },
  {
   "cell_type": "code",
   "execution_count": 21,
   "metadata": {},
   "outputs": [
    {
     "name": "stdout",
     "output_type": "stream",
     "text": [
      "User 20204876: Top 10 similar students ...\n",
      "\n",
      "1. Student ID: 20200436 | Name: Phạm Quang Nghĩa | Faculty: Trường Công nghệ Thông tin và Truyền thông | Confidence: 0.9850\n",
      "2. Student ID: 20204849 | Name: Đinh Ngọc Quân | Faculty: Trường Công nghệ Thông tin và Truyền thông | Confidence: 0.9723\n",
      "3. Student ID: 20204787 | Name: Hà Hiểu Thành | Faculty: Trường Công nghệ Thông tin và Truyền thông | Confidence: 0.9718\n",
      "4. Student ID: 20200585 | Name: Bùi Văn Thành | Faculty: Trường Công nghệ Thông tin và Truyền thông | Confidence: 0.9658\n",
      "5. Student ID: 20200349 | Name: Nguyễn Thị Linh | Faculty: Trường Công nghệ Thông tin và Truyền thông | Confidence: 0.9651\n",
      "6. Student ID: 20204992 | Name: Nguyễn Duy Khánh | Faculty: Trường Công nghệ Thông tin và Truyền thông | Confidence: 0.9643\n",
      "7. Student ID: 20204572 | Name: Nguyễn Đăng Khoa | Faculty: Trường Công nghệ Thông tin và Truyền thông | Confidence: 0.9596\n",
      "8. Student ID: 20200508 | Name: Nguyễn Minh Quân | Faculty: Trường Công nghệ Thông tin và Truyền thông | Confidence: 0.9540\n",
      "9. Student ID: 20204545 | Name: Nguyễn Trung Hải | Faculty: Trường Công nghệ Thông tin và Truyền thông | Confidence: 0.9539\n",
      "10. Student ID: 20204656 | Name: Cao Thành Huy | Faculty: Trường Công nghệ Thông tin và Truyền thông | Confidence: 0.9491\n"
     ]
    }
   ],
   "source": [
    "get_similar_users(USER_ID)"
   ]
  },
  {
   "cell_type": "code",
   "execution_count": null,
   "metadata": {},
   "outputs": [],
   "source": []
  },
  {
   "cell_type": "code",
   "execution_count": null,
   "metadata": {},
   "outputs": [],
   "source": []
  }
 ],
 "metadata": {
  "kernelspec": {
   "display_name": "web-mining-d",
   "language": "python",
   "name": "python3"
  },
  "language_info": {
   "codemirror_mode": {
    "name": "ipython",
    "version": "3.10.13"
}},
"nbformat": 4,
"nbformat_minor": 2
}}
