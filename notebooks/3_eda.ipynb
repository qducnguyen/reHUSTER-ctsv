{
 "cells": [
  {
   "cell_type": "code",
   "execution_count": 1,
   "metadata": {},
   "outputs": [],
   "source": [
    "RAW_OUTPUT_FOLDER = \"../crawler/ctsv_scraper/output\""
   ]
  },
  {
   "cell_type": "code",
   "execution_count": 2,
   "metadata": {},
   "outputs": [],
   "source": [
    "cleaned_user_filename = \"user_info_deep_cleaned.csv\"\n",
    "cleaned_activity_filename = \"activity_info_deep_cleaned.csv\"\n",
    "cleaned_interaction_filename = \"user_activity_interaction_deep_cleaned.csv\""
   ]
  },
  {
   "cell_type": "code",
   "execution_count": 3,
   "metadata": {},
   "outputs": [],
   "source": [
    "import os \n",
    "\n",
    "import pandas as pd \n",
    "import matplotlib.pyplot as plt \n",
    "import seaborn as sns "
   ]
  },
  {
   "cell_type": "markdown",
   "metadata": {},
   "source": [
    "## User"
   ]
  },
  {
   "cell_type": "code",
   "execution_count": 4,
   "metadata": {},
   "outputs": [
    {
     "data": {
      "text/html": [
       "<div>\n",
       "<style scoped>\n",
       "    .dataframe tbody tr th:only-of-type {\n",
       "        vertical-align: middle;\n",
       "    }\n",
       "\n",
       "    .dataframe tbody tr th {\n",
       "        vertical-align: top;\n",
       "    }\n",
       "\n",
       "    .dataframe thead th {\n",
       "        text-align: right;\n",
       "    }\n",
       "</style>\n",
       "<table border=\"1\" class=\"dataframe\">\n",
       "  <thead>\n",
       "    <tr style=\"text-align: right;\">\n",
       "      <th></th>\n",
       "      <th>id</th>\n",
       "      <th>fullName</th>\n",
       "      <th>email</th>\n",
       "      <th>faculty</th>\n",
       "    </tr>\n",
       "  </thead>\n",
       "  <tbody>\n",
       "    <tr>\n",
       "      <th>5695</th>\n",
       "      <td>20184039</td>\n",
       "      <td>Quách Hoàng Anh</td>\n",
       "      <td>anh.qh184039@sis.hust.edu.vn</td>\n",
       "      <td>Trường Công nghệ Thông tin và Truyền thông</td>\n",
       "    </tr>\n",
       "    <tr>\n",
       "      <th>20852</th>\n",
       "      <td>20176591</td>\n",
       "      <td>Trần Lê Nhật Linh</td>\n",
       "      <td>linh.tln176591@sis.hust.edu.vn</td>\n",
       "      <td>Trường Cơ khí</td>\n",
       "    </tr>\n",
       "    <tr>\n",
       "      <th>14044</th>\n",
       "      <td>20160154</td>\n",
       "      <td>Nguyễn Thế Anh</td>\n",
       "      <td>anh.nt160154@sis.hust.edu.vn</td>\n",
       "      <td>Trường Điện - Điện tử</td>\n",
       "    </tr>\n",
       "    <tr>\n",
       "      <th>2113</th>\n",
       "      <td>20185360</td>\n",
       "      <td>Nguyễn Đức Hoàng</td>\n",
       "      <td>hoang.nd185360@sis.hust.edu.vn</td>\n",
       "      <td>Viện Toán ứng dụng và Tin học</td>\n",
       "    </tr>\n",
       "    <tr>\n",
       "      <th>14659</th>\n",
       "      <td>20153741</td>\n",
       "      <td>Nguyễn Văn Thưởng</td>\n",
       "      <td>thuong.nv153741@sis.hust.edu.vn</td>\n",
       "      <td>Trường Điện - Điện tử</td>\n",
       "    </tr>\n",
       "    <tr>\n",
       "      <th>33704</th>\n",
       "      <td>20205015</td>\n",
       "      <td>Trần Minh Quân</td>\n",
       "      <td>quan.tm205015@sis.hust.edu.vn</td>\n",
       "      <td>Trường Công nghệ Thông tin và Truyền thông</td>\n",
       "    </tr>\n",
       "    <tr>\n",
       "      <th>33658</th>\n",
       "      <td>20201457</td>\n",
       "      <td>Trần Hương Giang</td>\n",
       "      <td>giang.th201457@sis.hust.edu.vn</td>\n",
       "      <td>Trường Hóa và Khoa học Sự sống</td>\n",
       "    </tr>\n",
       "    <tr>\n",
       "      <th>55634</th>\n",
       "      <td>20238298</td>\n",
       "      <td>NGUYỄN THỊ LÊ VY</td>\n",
       "      <td>vy.ntl238298@sis.hust.edu.vn</td>\n",
       "      <td>Viện Vật lý kỹ thuật</td>\n",
       "    </tr>\n",
       "    <tr>\n",
       "      <th>37079</th>\n",
       "      <td>20212392</td>\n",
       "      <td>NGUYỄN LÊ PHÚC VINH</td>\n",
       "      <td>vinh.nlp212392@sis.hust.edu.vn</td>\n",
       "      <td>Trường Điện - Điện tử</td>\n",
       "    </tr>\n",
       "    <tr>\n",
       "      <th>40641</th>\n",
       "      <td>20217002</td>\n",
       "      <td>NGUYỄN THÀNH HƯNG</td>\n",
       "      <td>hung.nt217002@sis.hust.edu.vn</td>\n",
       "      <td>Trường Vật liệu</td>\n",
       "    </tr>\n",
       "  </tbody>\n",
       "</table>\n",
       "</div>"
      ],
      "text/plain": [
       "             id             fullName                            email  \\\n",
       "5695   20184039      Quách Hoàng Anh     anh.qh184039@sis.hust.edu.vn   \n",
       "20852  20176591    Trần Lê Nhật Linh   linh.tln176591@sis.hust.edu.vn   \n",
       "14044  20160154       Nguyễn Thế Anh     anh.nt160154@sis.hust.edu.vn   \n",
       "2113   20185360     Nguyễn Đức Hoàng   hoang.nd185360@sis.hust.edu.vn   \n",
       "14659  20153741   Nguyễn Văn Thưởng   thuong.nv153741@sis.hust.edu.vn   \n",
       "33704  20205015       Trần Minh Quân    quan.tm205015@sis.hust.edu.vn   \n",
       "33658  20201457     Trần Hương Giang   giang.th201457@sis.hust.edu.vn   \n",
       "55634  20238298     NGUYỄN THỊ LÊ VY     vy.ntl238298@sis.hust.edu.vn   \n",
       "37079  20212392  NGUYỄN LÊ PHÚC VINH   vinh.nlp212392@sis.hust.edu.vn   \n",
       "40641  20217002    NGUYỄN THÀNH HƯNG    hung.nt217002@sis.hust.edu.vn   \n",
       "\n",
       "                                          faculty  \n",
       "5695   Trường Công nghệ Thông tin và Truyền thông  \n",
       "20852                               Trường Cơ khí  \n",
       "14044                       Trường Điện - Điện tử  \n",
       "2113                Viện Toán ứng dụng và Tin học  \n",
       "14659                       Trường Điện - Điện tử  \n",
       "33704  Trường Công nghệ Thông tin và Truyền thông  \n",
       "33658              Trường Hóa và Khoa học Sự sống  \n",
       "55634                        Viện Vật lý kỹ thuật  \n",
       "37079                       Trường Điện - Điện tử  \n",
       "40641                             Trường Vật liệu  "
      ]
     },
     "execution_count": 4,
     "metadata": {},
     "output_type": "execute_result"
    }
   ],
   "source": [
    "df_user = pd.read_csv(os.path.join(RAW_OUTPUT_FOLDER, cleaned_user_filename))\n",
    "df_user.sample(10)"
   ]
  },
  {
   "cell_type": "code",
   "execution_count": 5,
   "metadata": {},
   "outputs": [
    {
     "name": "stdout",
     "output_type": "stream",
     "text": [
      "<class 'pandas.core.frame.DataFrame'>\n",
      "RangeIndex: 59273 entries, 0 to 59272\n",
      "Data columns (total 4 columns):\n",
      " #   Column    Non-Null Count  Dtype \n",
      "---  ------    --------------  ----- \n",
      " 0   id        59273 non-null  object\n",
      " 1   fullName  59273 non-null  object\n",
      " 2   email     59273 non-null  object\n",
      " 3   faculty   59262 non-null  object\n",
      "dtypes: object(4)\n",
      "memory usage: 1.8+ MB\n"
     ]
    }
   ],
   "source": [
    "df_user.info()"
   ]
  },
  {
   "cell_type": "code",
   "execution_count": 8,
   "metadata": {},
   "outputs": [
    {
     "data": {
      "text/plain": [
       "0        2018\n",
       "1        2017\n",
       "2        2019\n",
       "3        2017\n",
       "4        2019\n",
       "         ... \n",
       "59268    2023\n",
       "59269    2023\n",
       "59270    2023\n",
       "59271    2023\n",
       "59272    2023\n",
       "Name: id, Length: 59273, dtype: int64"
      ]
     },
     "execution_count": 8,
     "metadata": {},
     "output_type": "execute_result"
    }
   ],
   "source": [
    "year_of_start = df_user['id'].apply(lambda x: int(x[:4]))\n",
    "year_of_start"
   ]
  },
  {
   "cell_type": "code",
   "execution_count": 19,
   "metadata": {},
   "outputs": [
    {
     "data": {
      "text/plain": [
       "2023"
      ]
     },
     "execution_count": 19,
     "metadata": {},
     "output_type": "execute_result"
    }
   ],
   "source": [
    "year_min, year_max = min(year_of_start), max(year_of_start)\n",
    "year_max"
   ]
  },
  {
   "cell_type": "code",
   "execution_count": 10,
   "metadata": {},
   "outputs": [
    {
     "ename": "TypeError",
     "evalue": "Series.count() takes 1 positional argument but 2 were given",
     "output_type": "error",
     "traceback": [
      "\u001b[0;31m---------------------------------------------------------------------------\u001b[0m",
      "\u001b[0;31mTypeError\u001b[0m                                 Traceback (most recent call last)",
      "Cell \u001b[0;32mIn[10], line 1\u001b[0m\n\u001b[0;32m----> 1\u001b[0m \u001b[43m[\u001b[49m\u001b[43myear_of_start\u001b[49m\u001b[38;5;241;43m.\u001b[39;49m\u001b[43mcount\u001b[49m\u001b[43m(\u001b[49m\u001b[43myear\u001b[49m\u001b[43m)\u001b[49m\u001b[43m \u001b[49m\u001b[38;5;28;43;01mfor\u001b[39;49;00m\u001b[43m \u001b[49m\u001b[43myear\u001b[49m\u001b[43m \u001b[49m\u001b[38;5;129;43;01min\u001b[39;49;00m\u001b[43m \u001b[49m\u001b[38;5;28;43mrange\u001b[39;49m\u001b[43m(\u001b[49m\u001b[43myear_min\u001b[49m\u001b[43m,\u001b[49m\u001b[43m \u001b[49m\u001b[43myear_max\u001b[49m\u001b[43m \u001b[49m\u001b[38;5;241;43m+\u001b[39;49m\u001b[43m \u001b[49m\u001b[38;5;241;43m1\u001b[39;49m\u001b[43m)\u001b[49m\u001b[43m]\u001b[49m\n",
      "Cell \u001b[0;32mIn[10], line 1\u001b[0m, in \u001b[0;36m<listcomp>\u001b[0;34m(.0)\u001b[0m\n\u001b[0;32m----> 1\u001b[0m [\u001b[43myear_of_start\u001b[49m\u001b[38;5;241;43m.\u001b[39;49m\u001b[43mcount\u001b[49m\u001b[43m(\u001b[49m\u001b[43myear\u001b[49m\u001b[43m)\u001b[49m \u001b[38;5;28;01mfor\u001b[39;00m year \u001b[38;5;129;01min\u001b[39;00m \u001b[38;5;28mrange\u001b[39m(year_min, year_max \u001b[38;5;241m+\u001b[39m \u001b[38;5;241m1\u001b[39m)]\n",
      "\u001b[0;31mTypeError\u001b[0m: Series.count() takes 1 positional argument but 2 were given"
     ]
    }
   ],
   "source": [
    "[year_of_start.count(year) for year in range(year_min, year_max + 1)]"
   ]
  },
  {
   "cell_type": "code",
   "execution_count": 20,
   "metadata": {},
   "outputs": [
    {
     "data": {
      "text/plain": [
       "[1, 12, 482, 3600, 4534, 5843, 6049, 7127, 7378, 7803, 7418, 9026]"
      ]
     },
     "execution_count": 20,
     "metadata": {},
     "output_type": "execute_result"
    }
   ],
   "source": [
    "year_of_start.value_counts().sort_index().to_list()"
   ]
  },
  {
   "cell_type": "code",
   "execution_count": 18,
   "metadata": {},
   "outputs": [
    {
     "data": {
      "text/plain": [
       "<Axes: >"
      ]
     },
     "execution_count": 18,
     "metadata": {},
     "output_type": "execute_result"
    },
    {
     "data": {
      "image/png": "[encoded data removed]",
      "text/plain": [
       "<Figure size 640x480 with 1 Axes>"
      ]
     },
     "metadata": {},
     "output_type": "display_data"
    }
   ],
   "source": [
    "sns.barplot(x=range(2012, 2024), y = year_of_start.value_counts().sort_index().to_list())"
   ]
  },
  {
   "cell_type": "code",
   "execution_count": 25,
   "metadata": {},
   "outputs": [
    {
     "data": {
      "text/plain": [
       "18"
      ]
     },
     "execution_count": 25,
     "metadata": {},
     "output_type": "execute_result"
    }
   ],
   "source": [
    "df_user.faculty.nunique()"
   ]
  },
  {
   "cell_type": "code",
   "execution_count": 27,
   "metadata": {},
   "outputs": [
    {
     "data": {
      "text/plain": [
       "faculty\n",
       "Trường Cơ khí                                 13987\n",
       "Trường Điện - Điện tử                         13482\n",
       "Trường Hóa và Khoa học Sự sống                 8841\n",
       "Trường Công nghệ Thông tin và Truyền thông     7565\n",
       "Viện Kinh tế và Quản lý                        3944\n",
       "Trường Vật liệu                                2867\n",
       "Viện Toán ứng dụng và Tin học                  1844\n",
       "Viện Ngoại ngữ                                 1646\n",
       "Trường Công nghệ thông tin & Truyền thông      1175\n",
       "Viện Vật lý Kỹ thuật                           1126\n",
       "SIE                                             914\n",
       "Trường Vật Liệu                                 775\n",
       "Viện Sư phạm Kỹ thuật                           424\n",
       "Trung tâm Đào tạo liên tục                      315\n",
       "Viện Vật lý kỹ thuật                            298\n",
       "Ban CTSV                                         47\n",
       "Trường Hóa và Khoa học sự sống                    8\n",
       "Trường Cơ Khí                                     4\n",
       "Name: count, dtype: int64"
      ]
     },
     "execution_count": 27,
     "metadata": {},
     "output_type": "execute_result"
    }
   ],
   "source": [
    "df_user.faculty.value_counts()"
   ]
  },
  {
   "cell_type": "markdown",
   "metadata": {},
   "source": [
    "## Activity"
   ]
  },
  {
   "cell_type": "code",
   "execution_count": 28,
   "metadata": {},
   "outputs": [
    {
     "data": {
      "text/html": [
       "<div>\n",
       "<style scoped>\n",
       "    .dataframe tbody tr th:only-of-type {\n",
       "        vertical-align: middle;\n",
       "    }\n",
       "\n",
       "    .dataframe tbody tr th {\n",
       "        vertical-align: top;\n",
       "    }\n",
       "\n",
       "    .dataframe thead th {\n",
       "        text-align: right;\n",
       "    }\n",
       "</style>\n",
       "<table border=\"1\" class=\"dataframe\">\n",
       "  <thead>\n",
       "    <tr style=\"text-align: right;\">\n",
       "      <th></th>\n",
       "      <th>id</th>\n",
       "      <th>title</th>\n",
       "      <th>type</th>\n",
       "      <th>desc</th>\n",
       "      <th>btc</th>\n",
       "      <th>startTime</th>\n",
       "      <th>finishTime</th>\n",
       "      <th>deadlineTime</th>\n",
       "      <th>criteria</th>\n",
       "    </tr>\n",
       "  </thead>\n",
       "  <tbody>\n",
       "    <tr>\n",
       "      <th>0</th>\n",
       "      <td>135</td>\n",
       "      <td>Tọa đàm đối thoại giữa sinh viên và lãnh đạo n...</td>\n",
       "      <td>Sinh hoạt chuyên đề</td>\n",
       "      <td>Các bạn sinh viên thân mến, Gần đây, Trường ch...</td>\n",
       "      <td>Đại học Bách Khoa Hà Nội</td>\n",
       "      <td>2019-11-26 18:00:00</td>\n",
       "      <td>2019-11-27 21:00:00</td>\n",
       "      <td>2019-11-27 21:00:00</td>\n",
       "      <td>[{'CGroupId': 0, 'CId': 67, 'CName': 'Tham gia...</td>\n",
       "    </tr>\n",
       "    <tr>\n",
       "      <th>1</th>\n",
       "      <td>136</td>\n",
       "      <td>Ngày hội tuyển dụng của công ty LG Electronics</td>\n",
       "      <td>Hội thảo hướng nghiệp</td>\n",
       "      <td>Công ty LG Electronics Việt Nam Hải Phòng (LGE...</td>\n",
       "      <td>Ban CTSV</td>\n",
       "      <td>2019-11-29 08:30:00</td>\n",
       "      <td>2019-11-29 11:30:00</td>\n",
       "      <td>2019-11-29 11:30:00</td>\n",
       "      <td>[{'CGroupId': 0, 'CId': 61, 'CName': 'Tham gia...</td>\n",
       "    </tr>\n",
       "    <tr>\n",
       "      <th>2</th>\n",
       "      <td>137</td>\n",
       "      <td>Cổ vũ Giải bóng đá nam sinh viên các trường...</td>\n",
       "      <td>Hoạt động thể thao</td>\n",
       "      <td>Giải bóng đá sinh viên Hà Nội là giải đấu thườ...</td>\n",
       "      <td>Ban CTSV</td>\n",
       "      <td>2019-12-02 08:00:00</td>\n",
       "      <td>2019-12-02 10:30:00</td>\n",
       "      <td>2019-12-02 10:30:00</td>\n",
       "      <td>[{'CGroupId': 0, 'CId': 62, 'CName': 'Tham gia...</td>\n",
       "    </tr>\n",
       "    <tr>\n",
       "      <th>3</th>\n",
       "      <td>146</td>\n",
       "      <td>Lễ tổng kết cuộc thi \"Tuổi trẻ học tập và làm ...</td>\n",
       "      <td>Sinh hoạt chuyên đề</td>\n",
       "      <td>- Tiếp tục đẩy mạnh học tập và làm theo tư tưở...</td>\n",
       "      <td>Ban CTSV</td>\n",
       "      <td>2019-12-14 18:00:00</td>\n",
       "      <td>2019-12-14 22:00:00</td>\n",
       "      <td>2019-12-14 22:00:00</td>\n",
       "      <td>[{'CGroupId': 0, 'CId': 60, 'CName': 'Tham gia...</td>\n",
       "    </tr>\n",
       "    <tr>\n",
       "      <th>4</th>\n",
       "      <td>147</td>\n",
       "      <td>Họp Chi bộ 12/2019</td>\n",
       "      <td>Hiến máu nhân đạo</td>\n",
       "      <td>Kiểm điểm đảng viên Triển khai công tác khác c...</td>\n",
       "      <td>Chi bộ SV II</td>\n",
       "      <td>2019-12-08 17:00:00</td>\n",
       "      <td>2019-12-08 19:30:00</td>\n",
       "      <td>2019-12-08 19:30:00</td>\n",
       "      <td>[{'CGroupId': 0, 'CId': 55, 'CName': 'Tham gia...</td>\n",
       "    </tr>\n",
       "    <tr>\n",
       "      <th>5</th>\n",
       "      <td>148</td>\n",
       "      <td>Cộng tác viên Đội truyền thông Tư vấn tâm lý</td>\n",
       "      <td>Sinh hoạt chuyên đề</td>\n",
       "      <td>Tổ Tư vấn tâm lý SV (thuộc phòng CTSV) hiện đa...</td>\n",
       "      <td>Tổ hỗ trợ, tư vấn học tập và tâm lý</td>\n",
       "      <td>2020-04-09 10:00:00</td>\n",
       "      <td>2020-04-09 11:00:00</td>\n",
       "      <td>2020-04-09 11:00:00</td>\n",
       "      <td>[{'CGroupId': 0, 'CId': 59, 'CName': 'Tham gia...</td>\n",
       "    </tr>\n",
       "    <tr>\n",
       "      <th>6</th>\n",
       "      <td>149</td>\n",
       "      <td>Cộng tác viên tổ Tư vấn và Hỗ trợ SV (Phát tri...</td>\n",
       "      <td>Hỗ trợ tổ chức sự kiện</td>\n",
       "      <td>Tổ Tư vấn và hỗ trợ SV (thuộc phòng CTSV) hiện...</td>\n",
       "      <td>Tổ hỗ trợ, tư vấn học tập và tâm lý</td>\n",
       "      <td>2020-10-28 15:00:00</td>\n",
       "      <td>2021-03-31 16:00:00</td>\n",
       "      <td>2021-03-31 16:00:00</td>\n",
       "      <td>[{'CGroupId': 0, 'CId': 59, 'CName': 'Tham gia...</td>\n",
       "    </tr>\n",
       "    <tr>\n",
       "      <th>7</th>\n",
       "      <td>150</td>\n",
       "      <td>Sinh viên ĐH Bách Khoa Hà Nội sôi nổi tham dự ...</td>\n",
       "      <td>Hoạt động văn nghệ</td>\n",
       "      <td>Với chủ đề “Di sản Văn hóa trong quá trình phá...</td>\n",
       "      <td>Tổ Văn Thể Mỹ</td>\n",
       "      <td>2019-11-01 00:00:00</td>\n",
       "      <td>2019-11-26 00:00:00</td>\n",
       "      <td>2019-11-26 00:00:00</td>\n",
       "      <td>[{'CGroupId': 0, 'CId': 62, 'CName': 'Tham gia...</td>\n",
       "    </tr>\n",
       "    <tr>\n",
       "      <th>8</th>\n",
       "      <td>151</td>\n",
       "      <td>Hội thảo tuyển dụng của công ty Newwing Interc...</td>\n",
       "      <td>Hội thảo hướng nghiệp</td>\n",
       "      <td>Công ty TNHH Newwing Interconnect Technology (...</td>\n",
       "      <td>Ban CTSV</td>\n",
       "      <td>2019-12-13 08:00:00</td>\n",
       "      <td>2019-12-13 12:00:00</td>\n",
       "      <td>2019-12-13 12:00:00</td>\n",
       "      <td>[{'CGroupId': 0, 'CId': 61, 'CName': 'Tham gia...</td>\n",
       "    </tr>\n",
       "    <tr>\n",
       "      <th>9</th>\n",
       "      <td>152</td>\n",
       "      <td>Hội thảo việc làm Nestlé Career Day</td>\n",
       "      <td>Hội thảo hướng nghiệp</td>\n",
       "      <td>📣📣📣 CHƯƠNG TRÌNH QUẢN TRỊ VIÊN TẬP SỰ NESTLÉ 2...</td>\n",
       "      <td>Ban CTSV</td>\n",
       "      <td>2019-12-16 08:30:00</td>\n",
       "      <td>2019-12-16 11:30:00</td>\n",
       "      <td>2019-12-16 11:30:00</td>\n",
       "      <td>[{'CGroupId': 0, 'CId': 61, 'CName': 'Tham gia...</td>\n",
       "    </tr>\n",
       "  </tbody>\n",
       "</table>\n",
       "</div>"
      ],
      "text/plain": [
       "    id                                              title  \\\n",
       "0  135  Tọa đàm đối thoại giữa sinh viên và lãnh đạo n...   \n",
       "1  136     Ngày hội tuyển dụng của công ty LG Electronics   \n",
       "2  137  Cổ vũ Giải bóng đá nam sinh viên các trường...   \n",
       "3  146  Lễ tổng kết cuộc thi \"Tuổi trẻ học tập và làm ...   \n",
       "4  147                                 Họp Chi bộ 12/2019   \n",
       "5  148       Cộng tác viên Đội truyền thông Tư vấn tâm lý   \n",
       "6  149  Cộng tác viên tổ Tư vấn và Hỗ trợ SV (Phát tri...   \n",
       "7  150  Sinh viên ĐH Bách Khoa Hà Nội sôi nổi tham dự ...   \n",
       "8  151  Hội thảo tuyển dụng của công ty Newwing Interc...   \n",
       "9  152                Hội thảo việc làm Nestlé Career Day   \n",
       "\n",
       "                     type                                               desc  \\\n",
       "0     Sinh hoạt chuyên đề  Các bạn sinh viên thân mến, Gần đây, Trường ch...   \n",
       "1   Hội thảo hướng nghiệp  Công ty LG Electronics Việt Nam Hải Phòng (LGE...   \n",
       "2      Hoạt động thể thao  Giải bóng đá sinh viên Hà Nội là giải đấu thườ...   \n",
       "3     Sinh hoạt chuyên đề  - Tiếp tục đẩy mạnh học tập và làm theo tư tưở...   \n",
       "4       Hiến máu nhân đạo  Kiểm điểm đảng viên Triển khai công tác khác c...   \n",
       "5     Sinh hoạt chuyên đề  Tổ Tư vấn tâm lý SV (thuộc phòng CTSV) hiện đa...   \n",
       "6  Hỗ trợ tổ chức sự kiện  Tổ Tư vấn và hỗ trợ SV (thuộc phòng CTSV) hiện...   \n",
       "7      Hoạt động văn nghệ  Với chủ đề “Di sản Văn hóa trong quá trình phá...   \n",
       "8   Hội thảo hướng nghiệp  Công ty TNHH Newwing Interconnect Technology (...   \n",
       "9   Hội thảo hướng nghiệp  📣📣📣 CHƯƠNG TRÌNH QUẢN TRỊ VIÊN TẬP SỰ NESTLÉ 2...   \n",
       "\n",
       "                                   btc            startTime  \\\n",
       "0             Đại học Bách Khoa Hà Nội  2019-11-26 18:00:00   \n",
       "1                             Ban CTSV  2019-11-29 08:30:00   \n",
       "2                             Ban CTSV  2019-12-02 08:00:00   \n",
       "3                             Ban CTSV  2019-12-14 18:00:00   \n",
       "4                         Chi bộ SV II  2019-12-08 17:00:00   \n",
       "5  Tổ hỗ trợ, tư vấn học tập và tâm lý  2020-04-09 10:00:00   \n",
       "6  Tổ hỗ trợ, tư vấn học tập và tâm lý  2020-10-28 15:00:00   \n",
       "7                        Tổ Văn Thể Mỹ  2019-11-01 00:00:00   \n",
       "8                             Ban CTSV  2019-12-13 08:00:00   \n",
       "9                             Ban CTSV  2019-12-16 08:30:00   \n",
       "\n",
       "            finishTime         deadlineTime  \\\n",
       "0  2019-11-27 21:00:00  2019-11-27 21:00:00   \n",
       "1  2019-11-29 11:30:00  2019-11-29 11:30:00   \n",
       "2  2019-12-02 10:30:00  2019-12-02 10:30:00   \n",
       "3  2019-12-14 22:00:00  2019-12-14 22:00:00   \n",
       "4  2019-12-08 19:30:00  2019-12-08 19:30:00   \n",
       "5  2020-04-09 11:00:00  2020-04-09 11:00:00   \n",
       "6  2021-03-31 16:00:00  2021-03-31 16:00:00   \n",
       "7  2019-11-26 00:00:00  2019-11-26 00:00:00   \n",
       "8  2019-12-13 12:00:00  2019-12-13 12:00:00   \n",
       "9  2019-12-16 11:30:00  2019-12-16 11:30:00   \n",
       "\n",
       "                                            criteria  \n",
       "0  [{'CGroupId': 0, 'CId': 67, 'CName': 'Tham gia...  \n",
       "1  [{'CGroupId': 0, 'CId': 61, 'CName': 'Tham gia...  \n",
       "2  [{'CGroupId': 0, 'CId': 62, 'CName': 'Tham gia...  \n",
       "3  [{'CGroupId': 0, 'CId': 60, 'CName': 'Tham gia...  \n",
       "4  [{'CGroupId': 0, 'CId': 55, 'CName': 'Tham gia...  \n",
       "5  [{'CGroupId': 0, 'CId': 59, 'CName': 'Tham gia...  \n",
       "6  [{'CGroupId': 0, 'CId': 59, 'CName': 'Tham gia...  \n",
       "7  [{'CGroupId': 0, 'CId': 62, 'CName': 'Tham gia...  \n",
       "8  [{'CGroupId': 0, 'CId': 61, 'CName': 'Tham gia...  \n",
       "9  [{'CGroupId': 0, 'CId': 61, 'CName': 'Tham gia...  "
      ]
     },
     "execution_count": 28,
     "metadata": {},
     "output_type": "execute_result"
    }
   ],
   "source": [
    "df_activity = pd.read_csv(os.path.join(RAW_OUTPUT_FOLDER, cleaned_activity_filename))\n",
    "df_activity.head(10)"
   ]
  },
  {
   "cell_type": "code",
   "execution_count": 29,
   "metadata": {},
   "outputs": [
    {
     "name": "stdout",
     "output_type": "stream",
     "text": [
      "<class 'pandas.core.frame.DataFrame'>\n",
      "RangeIndex: 4537 entries, 0 to 4536\n",
      "Data columns (total 9 columns):\n",
      " #   Column        Non-Null Count  Dtype \n",
      "---  ------        --------------  ----- \n",
      " 0   id            4537 non-null   int64 \n",
      " 1   title         4537 non-null   object\n",
      " 2   type          4537 non-null   object\n",
      " 3   desc          3306 non-null   object\n",
      " 4   btc           4537 non-null   object\n",
      " 5   startTime     4537 non-null   object\n",
      " 6   finishTime    4537 non-null   object\n",
      " 7   deadlineTime  4537 non-null   object\n",
      " 8   criteria      4537 non-null   object\n",
      "dtypes: int64(1), object(8)\n",
      "memory usage: 319.1+ KB\n"
     ]
    }
   ],
   "source": [
    "df_activity.info()"
   ]
  },
  {
   "cell_type": "code",
   "execution_count": 40,
   "metadata": {},
   "outputs": [
    {
     "data": {
      "text/plain": [
       "array([\"[{'CGroupId': 0, 'CId': 51, 'CName': 'Thành viên CLB học thuật, Lab nghiên cứu, Nhóm nghiên cứu, nhóm Khởi nghiệp', 'CType': 0, 'CMaxPoint': 2.0, 'CStatus': 0}]\"],\n",
       "      dtype=object)"
      ]
     },
     "execution_count": 40,
     "metadata": {},
     "output_type": "execute_result"
    }
   ],
   "source": [
    "df_activity.criteria.sample().values"
   ]
  },
  {
   "cell_type": "markdown",
   "metadata": {},
   "source": [
    "## User-Activity Interaction"
   ]
  },
  {
   "cell_type": "code",
   "execution_count": 30,
   "metadata": {},
   "outputs": [
    {
     "name": "stderr",
     "output_type": "stream",
     "text": [
      "/var/folders/27/sl65zrhj4fj1gnqcggjy0_9c0000gn/T/ipykernel_45436/1756908646.py:1: DtypeWarning: Columns (0) have mixed types. Specify dtype option on import or set low_memory=False.\n",
      "  df_interaction = pd.read_csv(os.path.join(RAW_OUTPUT_FOLDER, cleaned_interaction_filename))\n"
     ]
    },
    {
     "data": {
      "text/html": [
       "<div>\n",
       "<style scoped>\n",
       "    .dataframe tbody tr th:only-of-type {\n",
       "        vertical-align: middle;\n",
       "    }\n",
       "\n",
       "    .dataframe tbody tr th {\n",
       "        vertical-align: top;\n",
       "    }\n",
       "\n",
       "    .dataframe thead th {\n",
       "        text-align: right;\n",
       "    }\n",
       "</style>\n",
       "<table border=\"1\" class=\"dataframe\">\n",
       "  <thead>\n",
       "    <tr style=\"text-align: right;\">\n",
       "      <th></th>\n",
       "      <th>user_id</th>\n",
       "      <th>activity_id</th>\n",
       "      <th>accepted_status</th>\n",
       "    </tr>\n",
       "  </thead>\n",
       "  <tbody>\n",
       "    <tr>\n",
       "      <th>0</th>\n",
       "      <td>20186237</td>\n",
       "      <td>135</td>\n",
       "      <td>2</td>\n",
       "    </tr>\n",
       "    <tr>\n",
       "      <th>1</th>\n",
       "      <td>20170351</td>\n",
       "      <td>135</td>\n",
       "      <td>2</td>\n",
       "    </tr>\n",
       "    <tr>\n",
       "      <th>2</th>\n",
       "      <td>20191797</td>\n",
       "      <td>135</td>\n",
       "      <td>2</td>\n",
       "    </tr>\n",
       "    <tr>\n",
       "      <th>3</th>\n",
       "      <td>20174071</td>\n",
       "      <td>135</td>\n",
       "      <td>1</td>\n",
       "    </tr>\n",
       "    <tr>\n",
       "      <th>4</th>\n",
       "      <td>20193457</td>\n",
       "      <td>135</td>\n",
       "      <td>1</td>\n",
       "    </tr>\n",
       "    <tr>\n",
       "      <th>5</th>\n",
       "      <td>20174341</td>\n",
       "      <td>135</td>\n",
       "      <td>2</td>\n",
       "    </tr>\n",
       "    <tr>\n",
       "      <th>6</th>\n",
       "      <td>20195864</td>\n",
       "      <td>135</td>\n",
       "      <td>1</td>\n",
       "    </tr>\n",
       "    <tr>\n",
       "      <th>7</th>\n",
       "      <td>20191875</td>\n",
       "      <td>135</td>\n",
       "      <td>1</td>\n",
       "    </tr>\n",
       "    <tr>\n",
       "      <th>8</th>\n",
       "      <td>20182068</td>\n",
       "      <td>135</td>\n",
       "      <td>2</td>\n",
       "    </tr>\n",
       "    <tr>\n",
       "      <th>9</th>\n",
       "      <td>20193964</td>\n",
       "      <td>135</td>\n",
       "      <td>1</td>\n",
       "    </tr>\n",
       "  </tbody>\n",
       "</table>\n",
       "</div>"
      ],
      "text/plain": [
       "    user_id  activity_id  accepted_status\n",
       "0  20186237          135                2\n",
       "1  20170351          135                2\n",
       "2  20191797          135                2\n",
       "3  20174071          135                1\n",
       "4  20193457          135                1\n",
       "5  20174341          135                2\n",
       "6  20195864          135                1\n",
       "7  20191875          135                1\n",
       "8  20182068          135                2\n",
       "9  20193964          135                1"
      ]
     },
     "execution_count": 30,
     "metadata": {},
     "output_type": "execute_result"
    }
   ],
   "source": [
    "df_interaction = pd.read_csv(os.path.join(RAW_OUTPUT_FOLDER, cleaned_interaction_filename))\n",
    "df_interaction.head(10)"
   ]
  },
  {
   "cell_type": "code",
   "execution_count": 31,
   "metadata": {},
   "outputs": [
    {
     "name": "stdout",
     "output_type": "stream",
     "text": [
      "<class 'pandas.core.frame.DataFrame'>\n",
      "RangeIndex: 3287972 entries, 0 to 3287971\n",
      "Data columns (total 3 columns):\n",
      " #   Column           Dtype \n",
      "---  ------           ----- \n",
      " 0   user_id          object\n",
      " 1   activity_id      int64 \n",
      " 2   accepted_status  int64 \n",
      "dtypes: int64(2), object(1)\n",
      "memory usage: 75.3+ MB\n"
     ]
    }
   ],
   "source": [
    "df_interaction.info()"
   ]
  },
  {
   "cell_type": "code",
   "execution_count": 33,
   "metadata": {},
   "outputs": [
    {
     "data": {
      "text/plain": [
       "array([2, 1, 0])"
      ]
     },
     "execution_count": 33,
     "metadata": {},
     "output_type": "execute_result"
    }
   ],
   "source": [
    "df_interaction.accepted_status.unique()"
   ]
  },
  {
   "cell_type": "code",
   "execution_count": null,
   "metadata": {},
   "outputs": [],
   "source": []
  }
 ],
 "metadata": {
  "kernelspec": {
   "display_name": "hust-web-minig",
   "language": "python",
   "name": "python3"
  },
  "language_info": {
   "codemirror_mode": {
    "name": "ipython",
    "version": 3
   },
   "file_extension": ".py",
   "mimetype": "text/x-python",
   "name": "python",
   "nbconvert_exporter": "python",
   "pygments_lexer": "ipython3",
   "version": "3.11.0"
  }
 },
 "nbformat": 4,
 "nbformat_minor": 2
}
